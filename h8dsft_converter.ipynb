{
 "cells": [
  {
   "cell_type": "markdown",
   "metadata": {},
   "source": [
    "# NGC 2"
   ]
  },
  {
   "cell_type": "markdown",
   "metadata": {},
   "source": [
    "### konverter kelvin ke celcius"
   ]
  },
  {
   "cell_type": "code",
   "execution_count": 1,
   "metadata": {},
   "outputs": [],
   "source": [
    "def kelvinToCelcius(nilaiSuhu): ##nama fungsi (kelvinToCelcius) dengan parameter (nilaiSuhu)\n",
    "    return nilaiSuhu-273.15 ##return atau nilai keluaran yang diharapkan"
   ]
  },
  {
   "cell_type": "markdown",
   "metadata": {},
   "source": [
    "#### Konverter celcius ke kelvin"
   ]
  },
  {
   "cell_type": "code",
   "execution_count": 2,
   "metadata": {},
   "outputs": [],
   "source": [
    "def celciusToKelvin(nilaiSuhu): ##nama fungsi(celciusToKelvin) dengan parameter (nilaiSuhu)\n",
    "    return nilaiSuhu+273.15 ##return atau nilai keluaran yang diharapkan"
   ]
  },
  {
   "cell_type": "markdown",
   "metadata": {},
   "source": [
    "#### konverter dari satuan suhu lain ke fahrenheit"
   ]
  },
  {
   "cell_type": "code",
   "execution_count": 3,
   "metadata": {},
   "outputs": [],
   "source": [
    "def converterToFahrenheit(jenisSuhu, nilaiSuhu):\n",
    "    if jenisSuhu in ['celcius', 'kelvin']:\n",
    "        if jenisSuhu==\"celcius\":\n",
    "            return (nilaiSuhu*9/5)+32\n",
    "        else:\n",
    "            return (nilaiSuhu-273.15)*9/5 + 32\n",
    "    else: return \"jenis suhu tidak diketahui\""
   ]
  },
  {
   "cell_type": "markdown",
   "metadata": {},
   "source": [
    "#### Konverter dari fahrenheit ke satuan suhu lain"
   ]
  },
  {
   "cell_type": "code",
   "execution_count": 4,
   "metadata": {},
   "outputs": [],
   "source": [
    "def converterFromFahrenheit(jenisSuhu, nilaiSuhu):\n",
    "    if jenisSuhu in ['celcius', 'kelvin']:\n",
    "        if jenisSuhu==\"celcius\":\n",
    "            return (nilaiSuhu-32)*5/9\n",
    "        else:\n",
    "            return (nilaiSuhu-32)*5/9+273.15\n",
    "    else: return \"jenis suhu tidak diketahui\""
   ]
  },
  {
   "cell_type": "markdown",
   "metadata": {},
   "source": [
    "#### uji disini"
   ]
  },
  {
   "cell_type": "code",
   "execution_count": 6,
   "metadata": {},
   "outputs": [
    {
     "name": "stdout",
     "output_type": "stream",
     "text": [
      "Suhu ruangan adalah 100\n",
      "Celcius\n"
     ]
    }
   ],
   "source": [
    "suhuRuangan=100\n",
    "print(f\"Suhu ruangan adalah {suhuRuangan}\")\n",
    "print(\"Celcius\")"
   ]
  }
 ],
 "metadata": {
  "interpreter": {
   "hash": "ad2bdc8ecc057115af97d19610ffacc2b4e99fae6737bb82f5d7fb13d2f2c186"
  },
  "kernelspec": {
   "display_name": "Python 3.9.12 ('base')",
   "language": "python",
   "name": "python3"
  },
  "language_info": {
   "codemirror_mode": {
    "name": "ipython",
    "version": 3
   },
   "file_extension": ".py",
   "mimetype": "text/x-python",
   "name": "python",
   "nbconvert_exporter": "python",
   "pygments_lexer": "ipython3",
   "version": "3.9.12"
  },
  "orig_nbformat": 4
 },
 "nbformat": 4,
 "nbformat_minor": 2
}
