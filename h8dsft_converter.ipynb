{
 "cells": [
  {
   "cell_type": "markdown",
   "metadata": {},
   "source": [
    "# NGC 2"
   ]
  },
  {
   "cell_type": "markdown",
   "metadata": {},
   "source": [
    "### konverter kelvin ke celcius"
   ]
  },
  {
   "cell_type": "code",
   "execution_count": 40,
   "metadata": {},
   "outputs": [],
   "source": [
    "def kelvinToCelcius(nilaiSuhu): ##nama fungsi (kelvinToCelcius) dengan parameter (nilaiSuhu)\n",
    "    return nilaiSuhu-273.15 ##rumus K to C"
   ]
  },
  {
   "cell_type": "markdown",
   "metadata": {},
   "source": [
    "#### Konverter celcius ke kelvin"
   ]
  },
  {
   "cell_type": "code",
   "execution_count": 41,
   "metadata": {},
   "outputs": [],
   "source": [
    "def celciusToKelvin(nilaiSuhu): ##nama fungsi(celciusToKelvin) dengan parameter (nilaiSuhu)\n",
    "    return nilaiSuhu+273.15 ##rumus C to K"
   ]
  },
  {
   "cell_type": "markdown",
   "metadata": {},
   "source": [
    "#### konverter dari satuan suhu lain ke fahrenheit"
   ]
  },
  {
   "cell_type": "code",
   "execution_count": 42,
   "metadata": {},
   "outputs": [],
   "source": [
    "def converterToFahrenheit(jenisSuhu, nilaiSuhu):\n",
    "    if jenisSuhu in ['celcius', 'kelvin']: ##untuk memastikan bahwa param1 hanya berisi 'celcius' atau kelvin\n",
    "        if jenisSuhu==\"celcius\":    ##jika jenis suhu adalah celcius\n",
    "            return (nilaiSuhu*9/5)+32   ##rumus C to F\n",
    "        else:   ## jika jenis suhu adalah kelvin\n",
    "            return kelvinToCelcius(nilaiSuhu)*9/5 + 32  ##rumus K to F\n",
    "    else: return \"jenis suhu tidak diketahui\"   ##statement jika jenis suhu bukan kelvin ataupun celcius"
   ]
  },
  {
   "cell_type": "markdown",
   "metadata": {},
   "source": [
    "#### Konverter dari fahrenheit ke satuan suhu lain"
   ]
  },
  {
   "cell_type": "code",
   "execution_count": 43,
   "metadata": {},
   "outputs": [],
   "source": [
    "def converterFromFahrenheit(jenisSuhu, nilaiSuhu):\n",
    "    if jenisSuhu in ['celcius', 'kelvin']:  ##untuk memastikan bahwa param1 hanya berisi 'celcius' atau kelvin\n",
    "        if jenisSuhu==\"celcius\":    ##jika jenis suhu keluaran adalah celcius\n",
    "            return (nilaiSuhu-32)*5/9   ## rumus F to C\n",
    "        else:   ## ## jika jenis suhu adalah kelvin\n",
    "            return (nilaiSuhu-32)*5/9+273.15    ##rumus F to K\n",
    "    else: return \"jenis suhu tidak diketahui\"    ##statement jika jenis suhu bukan kelvin ataupun celcius"
   ]
  },
  {
   "cell_type": "markdown",
   "metadata": {},
   "source": [
    "#### uji disini"
   ]
  },
  {
   "cell_type": "code",
   "execution_count": 45,
   "metadata": {},
   "outputs": [
    {
     "name": "stdout",
     "output_type": "stream",
     "text": [
      "Suhu ruangan adalah 100\n",
      "Jika Suhu ruangan adalah celcius, maka suhu tersebut sama dengan:\n",
      "* 373.15 kelvin\n",
      "* 212.0 fahrenheit\n",
      "Jika Suhu ruangan adalah kelvin, maka suhu tersebut sama dengan:\n",
      "* -173.14999999999998 celcius\n",
      "* -279.66999999999996 fahrenheit\n",
      "Jika Suhu ruangan adalah fahrenheit, maka suhu tersebut sama dengan:\n",
      "* 37.77777777777778 celcius\n",
      "* 310.92777777777775 kelvin\n"
     ]
    }
   ],
   "source": [
    "suhuRuangan=100\n",
    "print(f\"Suhu ruangan adalah {suhuRuangan}\")\n",
    "print(f\"Jika Suhu ruangan adalah celcius, maka suhu tersebut sama dengan:\")\n",
    "print(f\"* {celciusToKelvin(suhuRuangan)} kelvin\")\n",
    "print(f\"* {converterToFahrenheit('celcius',suhuRuangan)} fahrenheit\")\n",
    "print(f\"Jika Suhu ruangan adalah kelvin, maka suhu tersebut sama dengan:\")\n",
    "print(f\"* {kelvinToCelcius(suhuRuangan)} celcius\")\n",
    "print(f\"* {converterToFahrenheit('kelvin',suhuRuangan)} fahrenheit\")\n",
    "print(f\"Jika Suhu ruangan adalah fahrenheit, maka suhu tersebut sama dengan:\")\n",
    "print(f\"* {converterFromFahrenheit('celcius',suhuRuangan)} celcius\")\n",
    "print(f\"* {converterFromFahrenheit('kelvin',suhuRuangan)} kelvin\")"
   ]
  }
 ],
 "metadata": {
  "interpreter": {
   "hash": "ad2bdc8ecc057115af97d19610ffacc2b4e99fae6737bb82f5d7fb13d2f2c186"
  },
  "kernelspec": {
   "display_name": "Python 3.9.12 ('base')",
   "language": "python",
   "name": "python3"
  },
  "language_info": {
   "codemirror_mode": {
    "name": "ipython",
    "version": 3
   },
   "file_extension": ".py",
   "mimetype": "text/x-python",
   "name": "python",
   "nbconvert_exporter": "python",
   "pygments_lexer": "ipython3",
   "version": "3.9.12"
  },
  "orig_nbformat": 4
 },
 "nbformat": 4,
 "nbformat_minor": 2
}
